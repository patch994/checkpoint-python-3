{
 "cells": [
  {
   "cell_type": "code",
   "execution_count": 78,
   "id": "729ed780",
   "metadata": {},
   "outputs": [
    {
     "name": "stdout",
     "output_type": "stream",
     "text": [
      "20\n"
     ]
    }
   ],
   "source": [
    "\n",
    "def calculatrice (number1,number2):\n",
    "    operateur=input(\"Entrez l'opérateur !\")\n",
    "    if operateur ==\"+\":\n",
    "       result=number1 + number2\n",
    "    elif operateur ==\"-\":\n",
    "       result=number1 - number2\n",
    "    elif operateur ==\"*\":\n",
    "       result=number1 * number2\n",
    "    elif operateur ==\"/\":\n",
    "       result=number1 / number2\n",
    "    return result\n",
    "\n",
    "\n",
    "number1= int(input(\"entrer un number\"))\n",
    "number2= int(input(\"entrer un number\"))\n",
    "print(calculatrice(number1,number2))\n"
   ]
  }
 ],
 "metadata": {
  "kernelspec": {
   "display_name": "Python 3",
   "language": "python",
   "name": "python3"
  },
  "language_info": {
   "codemirror_mode": {
    "name": "ipython",
    "version": 3
   },
   "file_extension": ".py",
   "mimetype": "text/x-python",
   "name": "python",
   "nbconvert_exporter": "python",
   "pygments_lexer": "ipython3",
   "version": "3.13.2"
  }
 },
 "nbformat": 4,
 "nbformat_minor": 5
}
